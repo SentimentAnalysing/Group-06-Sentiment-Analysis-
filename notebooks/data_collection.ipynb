{
 "cells": [
  {
   "cell_type": "code",
   "execution_count": 27,
   "metadata": {},
   "outputs": [],
   "source": [
    "import pandas as pd\n",
    "from scripts.fetch_comments import fetch_comments, save_to_csv"
   ]
  },
  {
   "cell_type": "code",
   "execution_count": 28,
   "metadata": {},
   "outputs": [
    {
     "name": "stdout",
     "output_type": "stream",
     "text": [
      "Saved 100 comments to ./data/comments.csv\n",
      "Total comments fetched: 100\n"
     ]
    }
   ],
   "source": [
    "\n",
    "video_id = \"JfVOs4VSpmA\"\n",
    "comments = fetch_comments(video_id,1000)\n",
    "save_to_csv(comments, \"./data/comments.csv\")\n",
    "print(f\"Total comments fetched: {len(comments)}\")"
   ]
  }
 ],
 "metadata": {
  "kernelspec": {
   "display_name": "venv",
   "language": "python",
   "name": "python3"
  },
  "language_info": {
   "codemirror_mode": {
    "name": "ipython",
    "version": 3
   },
   "file_extension": ".py",
   "mimetype": "text/x-python",
   "name": "python",
   "nbconvert_exporter": "python",
   "pygments_lexer": "ipython3",
   "version": "3.12.6"
  }
 },
 "nbformat": 4,
 "nbformat_minor": 2
}
